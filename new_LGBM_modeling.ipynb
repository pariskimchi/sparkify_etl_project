{
 "cells": [
  {
   "cell_type": "code",
   "execution_count": 41,
   "id": "d921d1c2",
   "metadata": {},
   "outputs": [],
   "source": [
    "import findspark\n",
    "findspark.init()"
   ]
  },
  {
   "cell_type": "code",
   "execution_count": 3,
   "id": "731724c2",
   "metadata": {},
   "outputs": [],
   "source": [
    "# import libraries \n",
    "\n",
    "import numpy as np\n",
    "import pandas as pd \n",
    "import matplotlib.pyplot as plt\n",
    "\n",
    "import plotly.graph_objs as go \n",
    "from plotly.subplots import make_subplots\n",
    "\n",
    "from datetime import datetime, timedelta\n",
    "\n",
    "from pyspark.sql import SparkSession\n",
    "\n",
    "import pyspark.sql.functions as F\n",
    "from pyspark.sql import Window\n",
    "from pyspark.sql.functions import avg, concat, countDistinct,\\\n",
    "    col, datediff, date_format, desc, \\\n",
    "    format_number, isnan, lag, lit, udf, split\n",
    "\n",
    "from pyspark.ml import Pipeline \n",
    "from pyspark.ml.feature import MinMaxScaler, StringIndexer, VectorAssembler \n",
    "from pyspark.sql.types import StructField, StructType, IntegerType, FloatType, StringType\n",
    "\n",
    "from pyspark.sql.functions import split \n",
    "from pyspark.ml.classification import LogisticRegression, RandomForestClassifier, GBTClassifier \n",
    "from pyspark.ml.evaluation  import MulticlassClassificationEvaluator \n",
    "from pyspark.ml.tuning import CrossValidator, ParamGridBuilder"
   ]
  },
  {
   "cell_type": "code",
   "execution_count": 4,
   "id": "dcd4f225",
   "metadata": {},
   "outputs": [],
   "source": [
    "import lightgbm as lgb"
   ]
  },
  {
   "cell_type": "code",
   "execution_count": 5,
   "id": "af5867c2",
   "metadata": {},
   "outputs": [],
   "source": [
    "import configparser\n",
    "import os\n",
    "import logging"
   ]
  },
  {
   "cell_type": "code",
   "execution_count": 6,
   "id": "d1280e0c",
   "metadata": {},
   "outputs": [
    {
     "data": {
      "text/plain": [
       "['config.cfg']"
      ]
     },
     "execution_count": 6,
     "metadata": {},
     "output_type": "execute_result"
    }
   ],
   "source": [
    "\n",
    "# AWS configuration \n",
    "config = configparser.ConfigParser()\n",
    "config.read('config.cfg',encoding='utf-8-sig')"
   ]
  },
  {
   "cell_type": "code",
   "execution_count": 7,
   "id": "d4c48f62",
   "metadata": {},
   "outputs": [],
   "source": [
    "\n",
    "AWS_ACCESS_KEY_ID     = config.get('AWS', 'AWS_ACCESS_KEY_ID')\n",
    "AWS_SECRET_ACCESS_KEY = config.get('AWS', 'AWS_SECRET_ACCESS_KEY')"
   ]
  },
  {
   "cell_type": "code",
   "execution_count": 8,
   "id": "fedf8d35",
   "metadata": {},
   "outputs": [],
   "source": [
    "S3_BUCKET = config.get('S3','DEST_S3_BUCKET')"
   ]
  },
  {
   "cell_type": "code",
   "execution_count": 9,
   "id": "fd80e74c",
   "metadata": {},
   "outputs": [],
   "source": [
    "spark = SparkSession \\\n",
    "        .builder \\\n",
    "        .config(\"spark.jars.packages\",\"org.apache.hadoop:hadoop-aws:2.7.2\") \\\n",
    "        .config(\"fs.s3a.access.key\", AWS_ACCESS_KEY_ID) \\\n",
    "        .config(\"fs.s3a.secret.key\", AWS_SECRET_ACCESS_KEY) \\\n",
    "        .config(\"spark.network.timeout\",\"10000s\")\\\n",
    "        .config(\"spark.executor.heartbeatInterval\",\"3600s\")\\\n",
    "        .config(\"spark.driver.memory\",\"40g\")\\\n",
    "        .config(\"spark.executor.memory\",\"120g\")\\\n",
    "        .config(\"spark.shuffle.file.buffer\", \"64k\")\\\n",
    "        .config(\"spark.eventLog.buffer.kb\", \"200k\")\\\n",
    "        .config(\"spark.sql.broadcastTimeout\", 7200)\\\n",
    "        .config(\"spark.master\",\"local[12]\")\\\n",
    "        .getOrCreate()"
   ]
  },
  {
   "cell_type": "code",
   "execution_count": 10,
   "id": "11234b27",
   "metadata": {},
   "outputs": [],
   "source": [
    "df_fact_week = spark.read.parquet(S3_BUCKET+\"/user_week_summary/2018-10-01_2018-10-21\")"
   ]
  },
  {
   "cell_type": "code",
   "execution_count": 11,
   "id": "9f364970",
   "metadata": {},
   "outputs": [],
   "source": [
    "# convert to pandas dataframe\n",
    "df_fact_pd = df_fact_week.toPandas()"
   ]
  },
  {
   "cell_type": "code",
   "execution_count": 12,
   "id": "4fe49cde",
   "metadata": {},
   "outputs": [
    {
     "data": {
      "text/plain": [
       "Index(['userId', 'level', 'last_interaction', 'week_code', 'day_from_reg',\n",
       "       'churn_service', 'churn_paid', 'count_login', 'time_inter_login',\n",
       "       'count_song', 'count_song_weekday', 'count_song_weekend', 'count_ads',\n",
       "       'ratio_song_ads', 'count_repeat', 'repeat_ratio',\n",
       "       'week_avg_listen_item_session', 'total_action_week',\n",
       "       'avg_num_action_session'],\n",
       "      dtype='object')"
      ]
     },
     "execution_count": 12,
     "metadata": {},
     "output_type": "execute_result"
    }
   ],
   "source": [
    "df_fact_pd.columns"
   ]
  },
  {
   "cell_type": "code",
   "execution_count": 13,
   "id": "9d80d8c1",
   "metadata": {},
   "outputs": [],
   "source": [
    "# scale cols \n",
    "scale_cols = ['day_from_reg','count_login','time_inter_login','count_song','count_song_weekday','count_song_weekend',\\\n",
    "             'count_ads','ratio_song_ads','count_repeat','repeat_ratio','week_avg_listen_item_session','total_action_week','avg_num_action_session']"
   ]
  },
  {
   "cell_type": "code",
   "execution_count": 14,
   "id": "71e91380",
   "metadata": {},
   "outputs": [],
   "source": [
    "# encode cols\n",
    "encode_cols = ['level','week_code']"
   ]
  },
  {
   "cell_type": "code",
   "execution_count": 15,
   "id": "b4738dfe",
   "metadata": {},
   "outputs": [],
   "source": [
    "import sklearn.preprocessing"
   ]
  },
  {
   "cell_type": "code",
   "execution_count": 16,
   "id": "39381b5f",
   "metadata": {},
   "outputs": [],
   "source": [
    "from sklearn.preprocessing import StandardScaler, MinMaxScaler"
   ]
  },
  {
   "cell_type": "code",
   "execution_count": 17,
   "id": "3b85ef6e",
   "metadata": {},
   "outputs": [],
   "source": [
    "# pd \n",
    "scaler =sklearn.preprocessing.MinMaxScaler()\n",
    "\n",
    "df_fact_pd[scale_cols] = scaler.fit_transform(df_fact_pd[scale_cols])"
   ]
  },
  {
   "cell_type": "code",
   "execution_count": 18,
   "id": "9b5ebb48",
   "metadata": {},
   "outputs": [],
   "source": [
    "df_fact_pd = pd.get_dummies(df_fact_pd,columns=encode_cols)"
   ]
  },
  {
   "cell_type": "code",
   "execution_count": 19,
   "id": "8d4b1217",
   "metadata": {},
   "outputs": [],
   "source": [
    "df_for_model = df_fact_pd.drop(columns=['userId','last_interaction'])"
   ]
  },
  {
   "cell_type": "code",
   "execution_count": 20,
   "id": "9e6abf69",
   "metadata": {},
   "outputs": [
    {
     "data": {
      "text/plain": [
       "Index(['day_from_reg', 'churn_service', 'churn_paid', 'count_login',\n",
       "       'time_inter_login', 'count_song', 'count_song_weekday',\n",
       "       'count_song_weekend', 'count_ads', 'ratio_song_ads', 'count_repeat',\n",
       "       'repeat_ratio', 'week_avg_listen_item_session', 'total_action_week',\n",
       "       'avg_num_action_session', 'level_free', 'level_paid', 'week_code_1',\n",
       "       'week_code_2', 'week_code_3'],\n",
       "      dtype='object')"
      ]
     },
     "execution_count": 20,
     "metadata": {},
     "output_type": "execute_result"
    }
   ],
   "source": [
    "df_for_model.columns"
   ]
  },
  {
   "cell_type": "code",
   "execution_count": 21,
   "id": "ddf4a441",
   "metadata": {},
   "outputs": [
    {
     "data": {
      "text/html": [
       "<div>\n",
       "<style scoped>\n",
       "    .dataframe tbody tr th:only-of-type {\n",
       "        vertical-align: middle;\n",
       "    }\n",
       "\n",
       "    .dataframe tbody tr th {\n",
       "        vertical-align: top;\n",
       "    }\n",
       "\n",
       "    .dataframe thead th {\n",
       "        text-align: right;\n",
       "    }\n",
       "</style>\n",
       "<table border=\"1\" class=\"dataframe\">\n",
       "  <thead>\n",
       "    <tr style=\"text-align: right;\">\n",
       "      <th></th>\n",
       "      <th>day_from_reg</th>\n",
       "      <th>churn_service</th>\n",
       "      <th>churn_paid</th>\n",
       "      <th>count_login</th>\n",
       "      <th>time_inter_login</th>\n",
       "      <th>count_song</th>\n",
       "      <th>count_song_weekday</th>\n",
       "      <th>count_song_weekend</th>\n",
       "      <th>count_ads</th>\n",
       "      <th>ratio_song_ads</th>\n",
       "      <th>count_repeat</th>\n",
       "      <th>repeat_ratio</th>\n",
       "      <th>week_avg_listen_item_session</th>\n",
       "      <th>total_action_week</th>\n",
       "      <th>avg_num_action_session</th>\n",
       "      <th>level_free</th>\n",
       "      <th>level_paid</th>\n",
       "      <th>week_code_1</th>\n",
       "      <th>week_code_2</th>\n",
       "      <th>week_code_3</th>\n",
       "    </tr>\n",
       "  </thead>\n",
       "  <tbody>\n",
       "    <tr>\n",
       "      <th>0</th>\n",
       "      <td>0.123711</td>\n",
       "      <td>0</td>\n",
       "      <td>0</td>\n",
       "      <td>0.04</td>\n",
       "      <td>0.042017</td>\n",
       "      <td>0.090005</td>\n",
       "      <td>0.021132</td>\n",
       "      <td>0.216541</td>\n",
       "      <td>0.000000</td>\n",
       "      <td>0.0000</td>\n",
       "      <td>0.004630</td>\n",
       "      <td>0.0</td>\n",
       "      <td>0.000156</td>\n",
       "      <td>0.093778</td>\n",
       "      <td>0.053626</td>\n",
       "      <td>0</td>\n",
       "      <td>1</td>\n",
       "      <td>0</td>\n",
       "      <td>0</td>\n",
       "      <td>1</td>\n",
       "    </tr>\n",
       "    <tr>\n",
       "      <th>1</th>\n",
       "      <td>0.198454</td>\n",
       "      <td>1</td>\n",
       "      <td>0</td>\n",
       "      <td>0.04</td>\n",
       "      <td>0.042017</td>\n",
       "      <td>0.050759</td>\n",
       "      <td>0.022642</td>\n",
       "      <td>0.102256</td>\n",
       "      <td>0.018519</td>\n",
       "      <td>0.0050</td>\n",
       "      <td>0.000000</td>\n",
       "      <td>0.0</td>\n",
       "      <td>0.001182</td>\n",
       "      <td>0.060889</td>\n",
       "      <td>0.034729</td>\n",
       "      <td>0</td>\n",
       "      <td>1</td>\n",
       "      <td>0</td>\n",
       "      <td>1</td>\n",
       "      <td>0</td>\n",
       "    </tr>\n",
       "    <tr>\n",
       "      <th>2</th>\n",
       "      <td>0.157216</td>\n",
       "      <td>0</td>\n",
       "      <td>1</td>\n",
       "      <td>0.00</td>\n",
       "      <td>0.394958</td>\n",
       "      <td>0.074830</td>\n",
       "      <td>0.107925</td>\n",
       "      <td>0.000000</td>\n",
       "      <td>0.138889</td>\n",
       "      <td>0.0250</td>\n",
       "      <td>0.004630</td>\n",
       "      <td>0.0</td>\n",
       "      <td>0.000119</td>\n",
       "      <td>0.086222</td>\n",
       "      <td>0.099081</td>\n",
       "      <td>1</td>\n",
       "      <td>0</td>\n",
       "      <td>0</td>\n",
       "      <td>1</td>\n",
       "      <td>0</td>\n",
       "    </tr>\n",
       "    <tr>\n",
       "      <th>3</th>\n",
       "      <td>0.193299</td>\n",
       "      <td>1</td>\n",
       "      <td>0</td>\n",
       "      <td>0.16</td>\n",
       "      <td>0.031933</td>\n",
       "      <td>0.057038</td>\n",
       "      <td>0.000000</td>\n",
       "      <td>0.160902</td>\n",
       "      <td>0.009259</td>\n",
       "      <td>0.0025</td>\n",
       "      <td>0.013889</td>\n",
       "      <td>0.0</td>\n",
       "      <td>0.002232</td>\n",
       "      <td>0.094667</td>\n",
       "      <td>0.054137</td>\n",
       "      <td>0</td>\n",
       "      <td>1</td>\n",
       "      <td>0</td>\n",
       "      <td>0</td>\n",
       "      <td>1</td>\n",
       "    </tr>\n",
       "    <tr>\n",
       "      <th>4</th>\n",
       "      <td>0.113402</td>\n",
       "      <td>1</td>\n",
       "      <td>0</td>\n",
       "      <td>0.04</td>\n",
       "      <td>0.067227</td>\n",
       "      <td>0.070120</td>\n",
       "      <td>0.067925</td>\n",
       "      <td>0.063158</td>\n",
       "      <td>0.120370</td>\n",
       "      <td>0.0250</td>\n",
       "      <td>0.013889</td>\n",
       "      <td>0.0</td>\n",
       "      <td>0.000120</td>\n",
       "      <td>0.078667</td>\n",
       "      <td>0.044944</td>\n",
       "      <td>1</td>\n",
       "      <td>0</td>\n",
       "      <td>1</td>\n",
       "      <td>0</td>\n",
       "      <td>0</td>\n",
       "    </tr>\n",
       "    <tr>\n",
       "      <th>...</th>\n",
       "      <td>...</td>\n",
       "      <td>...</td>\n",
       "      <td>...</td>\n",
       "      <td>...</td>\n",
       "      <td>...</td>\n",
       "      <td>...</td>\n",
       "      <td>...</td>\n",
       "      <td>...</td>\n",
       "      <td>...</td>\n",
       "      <td>...</td>\n",
       "      <td>...</td>\n",
       "      <td>...</td>\n",
       "      <td>...</td>\n",
       "      <td>...</td>\n",
       "      <td>...</td>\n",
       "      <td>...</td>\n",
       "      <td>...</td>\n",
       "      <td>...</td>\n",
       "      <td>...</td>\n",
       "      <td>...</td>\n",
       "    </tr>\n",
       "    <tr>\n",
       "      <th>53788</th>\n",
       "      <td>0.141753</td>\n",
       "      <td>0</td>\n",
       "      <td>0</td>\n",
       "      <td>0.00</td>\n",
       "      <td>0.647059</td>\n",
       "      <td>0.000000</td>\n",
       "      <td>0.000755</td>\n",
       "      <td>0.000000</td>\n",
       "      <td>0.000000</td>\n",
       "      <td>0.0000</td>\n",
       "      <td>0.000000</td>\n",
       "      <td>0.0</td>\n",
       "      <td>0.921477</td>\n",
       "      <td>0.000444</td>\n",
       "      <td>0.000511</td>\n",
       "      <td>1</td>\n",
       "      <td>0</td>\n",
       "      <td>1</td>\n",
       "      <td>0</td>\n",
       "      <td>0</td>\n",
       "    </tr>\n",
       "    <tr>\n",
       "      <th>53789</th>\n",
       "      <td>0.126289</td>\n",
       "      <td>0</td>\n",
       "      <td>1</td>\n",
       "      <td>0.04</td>\n",
       "      <td>0.042017</td>\n",
       "      <td>0.000000</td>\n",
       "      <td>0.000755</td>\n",
       "      <td>0.000000</td>\n",
       "      <td>0.000000</td>\n",
       "      <td>0.0000</td>\n",
       "      <td>0.000000</td>\n",
       "      <td>0.0</td>\n",
       "      <td>NaN</td>\n",
       "      <td>0.000889</td>\n",
       "      <td>0.000255</td>\n",
       "      <td>0</td>\n",
       "      <td>1</td>\n",
       "      <td>0</td>\n",
       "      <td>0</td>\n",
       "      <td>1</td>\n",
       "    </tr>\n",
       "    <tr>\n",
       "      <th>53790</th>\n",
       "      <td>0.100515</td>\n",
       "      <td>1</td>\n",
       "      <td>1</td>\n",
       "      <td>0.12</td>\n",
       "      <td>0.054622</td>\n",
       "      <td>0.000000</td>\n",
       "      <td>0.000755</td>\n",
       "      <td>0.000000</td>\n",
       "      <td>0.000000</td>\n",
       "      <td>0.0000</td>\n",
       "      <td>0.000000</td>\n",
       "      <td>0.0</td>\n",
       "      <td>0.000574</td>\n",
       "      <td>0.306222</td>\n",
       "      <td>0.351890</td>\n",
       "      <td>1</td>\n",
       "      <td>0</td>\n",
       "      <td>0</td>\n",
       "      <td>1</td>\n",
       "      <td>0</td>\n",
       "    </tr>\n",
       "    <tr>\n",
       "      <th>53791</th>\n",
       "      <td>0.175258</td>\n",
       "      <td>0</td>\n",
       "      <td>0</td>\n",
       "      <td>0.00</td>\n",
       "      <td>0.193277</td>\n",
       "      <td>0.000000</td>\n",
       "      <td>0.000755</td>\n",
       "      <td>0.000000</td>\n",
       "      <td>0.000000</td>\n",
       "      <td>0.0000</td>\n",
       "      <td>0.000000</td>\n",
       "      <td>0.0</td>\n",
       "      <td>NaN</td>\n",
       "      <td>0.000000</td>\n",
       "      <td>0.000000</td>\n",
       "      <td>1</td>\n",
       "      <td>0</td>\n",
       "      <td>1</td>\n",
       "      <td>0</td>\n",
       "      <td>0</td>\n",
       "    </tr>\n",
       "    <tr>\n",
       "      <th>53792</th>\n",
       "      <td>0.146907</td>\n",
       "      <td>0</td>\n",
       "      <td>1</td>\n",
       "      <td>0.00</td>\n",
       "      <td>0.344538</td>\n",
       "      <td>0.000000</td>\n",
       "      <td>0.000755</td>\n",
       "      <td>0.000000</td>\n",
       "      <td>0.000000</td>\n",
       "      <td>0.0000</td>\n",
       "      <td>0.000000</td>\n",
       "      <td>0.0</td>\n",
       "      <td>NaN</td>\n",
       "      <td>0.000000</td>\n",
       "      <td>0.000000</td>\n",
       "      <td>1</td>\n",
       "      <td>0</td>\n",
       "      <td>0</td>\n",
       "      <td>1</td>\n",
       "      <td>0</td>\n",
       "    </tr>\n",
       "  </tbody>\n",
       "</table>\n",
       "<p>53793 rows × 20 columns</p>\n",
       "</div>"
      ],
      "text/plain": [
       "       day_from_reg  churn_service  churn_paid  count_login  time_inter_login  \\\n",
       "0          0.123711              0           0         0.04          0.042017   \n",
       "1          0.198454              1           0         0.04          0.042017   \n",
       "2          0.157216              0           1         0.00          0.394958   \n",
       "3          0.193299              1           0         0.16          0.031933   \n",
       "4          0.113402              1           0         0.04          0.067227   \n",
       "...             ...            ...         ...          ...               ...   \n",
       "53788      0.141753              0           0         0.00          0.647059   \n",
       "53789      0.126289              0           1         0.04          0.042017   \n",
       "53790      0.100515              1           1         0.12          0.054622   \n",
       "53791      0.175258              0           0         0.00          0.193277   \n",
       "53792      0.146907              0           1         0.00          0.344538   \n",
       "\n",
       "       count_song  count_song_weekday  count_song_weekend  count_ads  \\\n",
       "0        0.090005            0.021132            0.216541   0.000000   \n",
       "1        0.050759            0.022642            0.102256   0.018519   \n",
       "2        0.074830            0.107925            0.000000   0.138889   \n",
       "3        0.057038            0.000000            0.160902   0.009259   \n",
       "4        0.070120            0.067925            0.063158   0.120370   \n",
       "...           ...                 ...                 ...        ...   \n",
       "53788    0.000000            0.000755            0.000000   0.000000   \n",
       "53789    0.000000            0.000755            0.000000   0.000000   \n",
       "53790    0.000000            0.000755            0.000000   0.000000   \n",
       "53791    0.000000            0.000755            0.000000   0.000000   \n",
       "53792    0.000000            0.000755            0.000000   0.000000   \n",
       "\n",
       "       ratio_song_ads  count_repeat  repeat_ratio  \\\n",
       "0              0.0000      0.004630           0.0   \n",
       "1              0.0050      0.000000           0.0   \n",
       "2              0.0250      0.004630           0.0   \n",
       "3              0.0025      0.013889           0.0   \n",
       "4              0.0250      0.013889           0.0   \n",
       "...               ...           ...           ...   \n",
       "53788          0.0000      0.000000           0.0   \n",
       "53789          0.0000      0.000000           0.0   \n",
       "53790          0.0000      0.000000           0.0   \n",
       "53791          0.0000      0.000000           0.0   \n",
       "53792          0.0000      0.000000           0.0   \n",
       "\n",
       "       week_avg_listen_item_session  total_action_week  \\\n",
       "0                          0.000156           0.093778   \n",
       "1                          0.001182           0.060889   \n",
       "2                          0.000119           0.086222   \n",
       "3                          0.002232           0.094667   \n",
       "4                          0.000120           0.078667   \n",
       "...                             ...                ...   \n",
       "53788                      0.921477           0.000444   \n",
       "53789                           NaN           0.000889   \n",
       "53790                      0.000574           0.306222   \n",
       "53791                           NaN           0.000000   \n",
       "53792                           NaN           0.000000   \n",
       "\n",
       "       avg_num_action_session  level_free  level_paid  week_code_1  \\\n",
       "0                    0.053626           0           1            0   \n",
       "1                    0.034729           0           1            0   \n",
       "2                    0.099081           1           0            0   \n",
       "3                    0.054137           0           1            0   \n",
       "4                    0.044944           1           0            1   \n",
       "...                       ...         ...         ...          ...   \n",
       "53788                0.000511           1           0            1   \n",
       "53789                0.000255           0           1            0   \n",
       "53790                0.351890           1           0            0   \n",
       "53791                0.000000           1           0            1   \n",
       "53792                0.000000           1           0            0   \n",
       "\n",
       "       week_code_2  week_code_3  \n",
       "0                0            1  \n",
       "1                1            0  \n",
       "2                1            0  \n",
       "3                0            1  \n",
       "4                0            0  \n",
       "...            ...          ...  \n",
       "53788            0            0  \n",
       "53789            0            1  \n",
       "53790            1            0  \n",
       "53791            0            0  \n",
       "53792            1            0  \n",
       "\n",
       "[53793 rows x 20 columns]"
      ]
     },
     "execution_count": 21,
     "metadata": {},
     "output_type": "execute_result"
    }
   ],
   "source": [
    "df_for_model"
   ]
  },
  {
   "cell_type": "code",
   "execution_count": null,
   "id": "26d1c0a7",
   "metadata": {},
   "outputs": [],
   "source": []
  },
  {
   "cell_type": "markdown",
   "id": "ce7c5feb",
   "metadata": {},
   "source": [
    "### Modeling"
   ]
  },
  {
   "cell_type": "code",
   "execution_count": 22,
   "id": "b2b33126",
   "metadata": {},
   "outputs": [],
   "source": [
    "from sklearn.model_selection import train_test_split"
   ]
  },
  {
   "cell_type": "code",
   "execution_count": 23,
   "id": "d1c649ae",
   "metadata": {},
   "outputs": [],
   "source": [
    "y = df_for_model['churn_service']\n",
    "X = df_for_model.drop(columns=['churn_service','churn_paid'])"
   ]
  },
  {
   "cell_type": "code",
   "execution_count": 24,
   "id": "f2e34ceb",
   "metadata": {},
   "outputs": [],
   "source": [
    "X_train, X_test, y_train, y_test = train_test_split(X,y,test_size=0.3, random_state=42)"
   ]
  },
  {
   "cell_type": "code",
   "execution_count": 25,
   "id": "7d2f7de1",
   "metadata": {},
   "outputs": [],
   "source": [
    "# create dataset for lightgbm\n",
    "lgb_train = lgb.Dataset(X_train, y_train)\n",
    "lgb_eval = lgb.Dataset(X_test, y_test, reference=lgb_train)"
   ]
  },
  {
   "cell_type": "code",
   "execution_count": 26,
   "id": "dc465079",
   "metadata": {},
   "outputs": [],
   "source": [
    "params = {\n",
    "    'application': 'binary',\n",
    "    'objective': 'binary',\n",
    "    'metric': 'auc',\n",
    "    'is_unbalance': 'true',\n",
    "    'boosting': 'gbdt',\n",
    "    'num_leaves': 31,\n",
    "    'feature_fraction': 0.5,\n",
    "    'bagging_fraction': 0.5,\n",
    "    'bagging_freq': 20,\n",
    "    'learning_rate': 0.05,\n",
    "    'verbose': 20\n",
    "}"
   ]
  },
  {
   "cell_type": "code",
   "execution_count": 27,
   "id": "07579be9",
   "metadata": {},
   "outputs": [],
   "source": [
    "from sklearn.metrics import mean_squared_error"
   ]
  },
  {
   "cell_type": "code",
   "execution_count": 28,
   "id": "f37c2150",
   "metadata": {},
   "outputs": [],
   "source": [
    "clf = lgb.LGBMClassifier()\n"
   ]
  },
  {
   "cell_type": "code",
   "execution_count": 29,
   "id": "aa79938f",
   "metadata": {},
   "outputs": [
    {
     "data": {
      "text/plain": [
       "LGBMClassifier(application='binary', bagging_fraction=0.5, bagging_freq=20,\n",
       "               boosting='gbdt', feature_fraction=0.5, is_unbalance='true',\n",
       "               learning_rate=0.05, metric='auc', objective='binary',\n",
       "               verbose=20)"
      ]
     },
     "execution_count": 29,
     "metadata": {},
     "output_type": "execute_result"
    }
   ],
   "source": [
    "clf.set_params(**params)"
   ]
  },
  {
   "cell_type": "code",
   "execution_count": 30,
   "id": "93035d84",
   "metadata": {},
   "outputs": [
    {
     "name": "stderr",
     "output_type": "stream",
     "text": [
      "C:\\Users\\yng12\\AppData\\Roaming\\Python\\Python39\\site-packages\\lightgbm\\sklearn.py:736: UserWarning: 'verbose' argument is deprecated and will be removed in a future release of LightGBM. Pass 'log_evaluation()' callback via 'callbacks' argument instead.\n",
      "  _log_warning(\"'verbose' argument is deprecated and will be removed in a future release of LightGBM. \"\n"
     ]
    },
    {
     "name": "stdout",
     "output_type": "stream",
     "text": [
      "[LightGBM] [Warning] boosting is set=gbdt, boosting_type=gbdt will be ignored. Current value: boosting=gbdt\n",
      "[LightGBM] [Warning] feature_fraction is set=0.5, colsample_bytree=1.0 will be ignored. Current value: feature_fraction=0.5\n",
      "[LightGBM] [Warning] bagging_fraction is set=0.5, subsample=1.0 will be ignored. Current value: bagging_fraction=0.5\n",
      "[LightGBM] [Warning] bagging_freq is set=20, subsample_freq=0 will be ignored. Current value: bagging_freq=20\n",
      "[LightGBM] [Warning] boosting is set=gbdt, boosting_type=gbdt will be ignored. Current value: boosting=gbdt\n",
      "[LightGBM] [Warning] feature_fraction is set=0.5, colsample_bytree=1.0 will be ignored. Current value: feature_fraction=0.5\n",
      "[LightGBM] [Warning] bagging_fraction is set=0.5, subsample=1.0 will be ignored. Current value: bagging_fraction=0.5\n",
      "[LightGBM] [Warning] bagging_freq is set=20, subsample_freq=0 will be ignored. Current value: bagging_freq=20\n",
      "[LightGBM] [Info] Number of positive: 10885, number of negative: 26770\n",
      "[LightGBM] [Debug] Dataset::GetMultiBinFromAllFeatures: sparse rate 0.142639\n",
      "[LightGBM] [Debug] init for col-wise cost 0.000133 seconds, init for row-wise cost 0.003388 seconds\n",
      "[LightGBM] [Warning] Auto-choosing col-wise multi-threading, the overhead of testing was 0.004822 seconds.\n",
      "You can set `force_col_wise=true` to remove the overhead.\n",
      "[LightGBM] [Info] Total Bins 2171\n",
      "[LightGBM] [Info] Number of data points in the train set: 37655, number of used features: 17\n",
      "[LightGBM] [Debug] Use subset for bagging\n",
      "[LightGBM] [Warning] boosting is set=gbdt, boosting_type=gbdt will be ignored. Current value: boosting=gbdt\n",
      "[LightGBM] [Warning] feature_fraction is set=0.5, colsample_bytree=1.0 will be ignored. Current value: feature_fraction=0.5\n",
      "[LightGBM] [Warning] bagging_fraction is set=0.5, subsample=1.0 will be ignored. Current value: bagging_fraction=0.5\n",
      "[LightGBM] [Warning] bagging_freq is set=20, subsample_freq=0 will be ignored. Current value: bagging_freq=20\n",
      "[LightGBM] [Info] [binary:BoostFromScore]: pavg=0.289072 -> initscore=-0.899896\n",
      "[LightGBM] [Info] Start training from score -0.899896\n",
      "[LightGBM] [Debug] Re-bagging, using 18925 data to train\n",
      "[LightGBM] [Debug] Trained a tree with leaves = 31 and depth = 8\n",
      "[LightGBM] [Debug] Trained a tree with leaves = 31 and depth = 8\n",
      "[LightGBM] [Debug] Trained a tree with leaves = 31 and depth = 8\n",
      "[LightGBM] [Debug] Trained a tree with leaves = 31 and depth = 8\n",
      "[LightGBM] [Debug] Trained a tree with leaves = 31 and depth = 8\n",
      "[LightGBM] [Debug] Trained a tree with leaves = 31 and depth = 8\n",
      "[LightGBM] [Debug] Trained a tree with leaves = 31 and depth = 9\n",
      "[LightGBM] [Debug] Trained a tree with leaves = 31 and depth = 8\n",
      "[LightGBM] [Debug] Trained a tree with leaves = 31 and depth = 9\n",
      "[LightGBM] [Debug] Trained a tree with leaves = 31 and depth = 9\n",
      "[LightGBM] [Debug] Trained a tree with leaves = 31 and depth = 8\n",
      "[LightGBM] [Debug] Trained a tree with leaves = 31 and depth = 7\n",
      "[LightGBM] [Debug] Trained a tree with leaves = 31 and depth = 9\n",
      "[LightGBM] [Debug] Trained a tree with leaves = 31 and depth = 7\n",
      "[LightGBM] [Debug] Trained a tree with leaves = 31 and depth = 7\n",
      "[LightGBM] [Debug] Trained a tree with leaves = 31 and depth = 10\n",
      "[LightGBM] [Debug] Trained a tree with leaves = 31 and depth = 9\n",
      "[LightGBM] [Debug] Trained a tree with leaves = 31 and depth = 7\n",
      "[LightGBM] [Debug] Trained a tree with leaves = 31 and depth = 8\n",
      "[LightGBM] [Debug] Trained a tree with leaves = 31 and depth = 10\n",
      "[20]\ttraining's binary_logloss: 0.593704\ttraining's auc: 0.699998\tvalid_0's binary_logloss: 0.598631\tvalid_0's auc: 0.684149\n",
      "[LightGBM] [Debug] Re-bagging, using 18917 data to train\n",
      "[LightGBM] [Debug] Trained a tree with leaves = 31 and depth = 9\n",
      "[LightGBM] [Debug] Trained a tree with leaves = 31 and depth = 12\n",
      "[LightGBM] [Debug] Trained a tree with leaves = 31 and depth = 9\n",
      "[LightGBM] [Debug] Trained a tree with leaves = 31 and depth = 9\n",
      "[LightGBM] [Debug] Trained a tree with leaves = 31 and depth = 10\n",
      "[LightGBM] [Debug] Trained a tree with leaves = 31 and depth = 11\n",
      "[LightGBM] [Debug] Trained a tree with leaves = 31 and depth = 10\n",
      "[LightGBM] [Debug] Trained a tree with leaves = 31 and depth = 11\n",
      "[LightGBM] [Debug] Trained a tree with leaves = 31 and depth = 8\n",
      "[LightGBM] [Debug] Trained a tree with leaves = 31 and depth = 10\n",
      "[LightGBM] [Debug] Trained a tree with leaves = 31 and depth = 8\n",
      "[LightGBM] [Debug] Trained a tree with leaves = 31 and depth = 12\n",
      "[LightGBM] [Debug] Trained a tree with leaves = 31 and depth = 11\n",
      "[LightGBM] [Debug] Trained a tree with leaves = 31 and depth = 12\n",
      "[LightGBM] [Debug] Trained a tree with leaves = 31 and depth = 9\n",
      "[LightGBM] [Debug] Trained a tree with leaves = 31 and depth = 10\n",
      "[LightGBM] [Debug] Trained a tree with leaves = 31 and depth = 10\n",
      "[LightGBM] [Debug] Trained a tree with leaves = 31 and depth = 12\n",
      "[LightGBM] [Debug] Trained a tree with leaves = 31 and depth = 10\n",
      "[LightGBM] [Debug] Trained a tree with leaves = 31 and depth = 10\n",
      "[40]\ttraining's binary_logloss: 0.604469\ttraining's auc: 0.711121\tvalid_0's binary_logloss: 0.613531\tvalid_0's auc: 0.689708\n",
      "[LightGBM] [Debug] Re-bagging, using 19090 data to train\n",
      "[LightGBM] [Debug] Trained a tree with leaves = 31 and depth = 11\n",
      "[LightGBM] [Debug] Trained a tree with leaves = 31 and depth = 8\n",
      "[LightGBM] [Debug] Trained a tree with leaves = 31 and depth = 11\n",
      "[LightGBM] [Debug] Trained a tree with leaves = 31 and depth = 9\n",
      "[LightGBM] [Debug] Trained a tree with leaves = 31 and depth = 10\n",
      "[LightGBM] [Debug] Trained a tree with leaves = 31 and depth = 11\n",
      "[LightGBM] [Debug] Trained a tree with leaves = 31 and depth = 9\n",
      "[LightGBM] [Debug] Trained a tree with leaves = 31 and depth = 8\n",
      "[LightGBM] [Debug] Trained a tree with leaves = 31 and depth = 10\n",
      "[LightGBM] [Debug] Trained a tree with leaves = 31 and depth = 12\n",
      "[LightGBM] [Debug] Trained a tree with leaves = 31 and depth = 10\n",
      "[LightGBM] [Debug] Trained a tree with leaves = 31 and depth = 10\n",
      "[LightGBM] [Debug] Trained a tree with leaves = 31 and depth = 10\n",
      "[LightGBM] [Debug] Trained a tree with leaves = 31 and depth = 12\n",
      "[LightGBM] [Debug] Trained a tree with leaves = 31 and depth = 9\n",
      "[LightGBM] [Debug] Trained a tree with leaves = 31 and depth = 17\n",
      "[LightGBM] [Debug] Trained a tree with leaves = 31 and depth = 10\n",
      "[LightGBM] [Debug] Trained a tree with leaves = 31 and depth = 13\n",
      "[LightGBM] [Debug] Trained a tree with leaves = 31 and depth = 11\n",
      "[LightGBM] [Debug] Trained a tree with leaves = 31 and depth = 9\n",
      "[60]\ttraining's binary_logloss: 0.607231\ttraining's auc: 0.72178\tvalid_0's binary_logloss: 0.620503\tvalid_0's auc: 0.692529\n",
      "[LightGBM] [Debug] Re-bagging, using 18904 data to train\n",
      "[LightGBM] [Debug] Trained a tree with leaves = 31 and depth = 12\n",
      "[LightGBM] [Debug] Trained a tree with leaves = 31 and depth = 12\n",
      "[LightGBM] [Debug] Trained a tree with leaves = 31 and depth = 11\n",
      "[LightGBM] [Debug] Trained a tree with leaves = 31 and depth = 12\n",
      "[LightGBM] [Debug] Trained a tree with leaves = 31 and depth = 9\n",
      "[LightGBM] [Debug] Trained a tree with leaves = 31 and depth = 11\n",
      "[LightGBM] [Debug] Trained a tree with leaves = 31 and depth = 11\n",
      "[LightGBM] [Debug] Trained a tree with leaves = 31 and depth = 9\n",
      "[LightGBM] [Debug] Trained a tree with leaves = 31 and depth = 14\n",
      "[LightGBM] [Debug] Trained a tree with leaves = 31 and depth = 10\n",
      "[LightGBM] [Debug] Trained a tree with leaves = 31 and depth = 10\n",
      "[LightGBM] [Debug] Trained a tree with leaves = 31 and depth = 9\n",
      "[LightGBM] [Debug] Trained a tree with leaves = 31 and depth = 8\n",
      "[LightGBM] [Debug] Trained a tree with leaves = 31 and depth = 11\n",
      "[LightGBM] [Debug] Trained a tree with leaves = 31 and depth = 11\n",
      "[LightGBM] [Debug] Trained a tree with leaves = 31 and depth = 10\n",
      "[LightGBM] [Debug] Trained a tree with leaves = 31 and depth = 11\n",
      "[LightGBM] [Debug] Trained a tree with leaves = 31 and depth = 11\n",
      "[LightGBM] [Debug] Trained a tree with leaves = 31 and depth = 12\n",
      "[LightGBM] [Debug] Trained a tree with leaves = 31 and depth = 10\n",
      "[80]\ttraining's binary_logloss: 0.60267\ttraining's auc: 0.729933\tvalid_0's binary_logloss: 0.620096\tvalid_0's auc: 0.694115\n",
      "[LightGBM] [Debug] Re-bagging, using 18655 data to train\n",
      "[LightGBM] [Debug] Trained a tree with leaves = 31 and depth = 9\n",
      "[LightGBM] [Debug] Trained a tree with leaves = 31 and depth = 11\n",
      "[LightGBM] [Debug] Trained a tree with leaves = 31 and depth = 8\n"
     ]
    },
    {
     "name": "stdout",
     "output_type": "stream",
     "text": [
      "[LightGBM] [Debug] Trained a tree with leaves = 31 and depth = 9\n",
      "[LightGBM] [Debug] Trained a tree with leaves = 31 and depth = 11\n",
      "[LightGBM] [Debug] Trained a tree with leaves = 31 and depth = 13\n",
      "[LightGBM] [Debug] Trained a tree with leaves = 31 and depth = 10\n",
      "[LightGBM] [Debug] Trained a tree with leaves = 31 and depth = 14\n",
      "[LightGBM] [Debug] Trained a tree with leaves = 31 and depth = 10\n",
      "[LightGBM] [Debug] Trained a tree with leaves = 31 and depth = 11\n",
      "[LightGBM] [Debug] Trained a tree with leaves = 31 and depth = 11\n",
      "[LightGBM] [Debug] Trained a tree with leaves = 31 and depth = 10\n",
      "[LightGBM] [Debug] Trained a tree with leaves = 31 and depth = 13\n",
      "[LightGBM] [Debug] Trained a tree with leaves = 31 and depth = 17\n",
      "[LightGBM] [Debug] Trained a tree with leaves = 31 and depth = 10\n",
      "[LightGBM] [Debug] Trained a tree with leaves = 31 and depth = 14\n",
      "[LightGBM] [Debug] Trained a tree with leaves = 31 and depth = 11\n",
      "[LightGBM] [Debug] Trained a tree with leaves = 31 and depth = 14\n",
      "[LightGBM] [Debug] Trained a tree with leaves = 31 and depth = 15\n",
      "[LightGBM] [Debug] Trained a tree with leaves = 31 and depth = 12\n",
      "[100]\ttraining's binary_logloss: 0.599462\ttraining's auc: 0.739069\tvalid_0's binary_logloss: 0.620551\tvalid_0's auc: 0.696253\n"
     ]
    },
    {
     "data": {
      "text/plain": [
       "LGBMClassifier(application='binary', bagging_fraction=0.5, bagging_freq=20,\n",
       "               boosting='gbdt', feature_fraction=0.5, is_unbalance='true',\n",
       "               learning_rate=0.05, metric='auc', objective='binary',\n",
       "               verbose=20)"
      ]
     },
     "execution_count": 30,
     "metadata": {},
     "output_type": "execute_result"
    }
   ],
   "source": [
    "\n",
    "clf.fit(X_train, y_train, eval_set=[(X_test, y_test), (X_train, y_train)],\n",
    "       verbose=20, eval_metric='logloss')"
   ]
  },
  {
   "cell_type": "code",
   "execution_count": 31,
   "id": "e8157226",
   "metadata": {},
   "outputs": [
    {
     "name": "stdout",
     "output_type": "stream",
     "text": [
      "Training accuracy 0.7063\n",
      "Testing accuracy 0.6747\n"
     ]
    }
   ],
   "source": [
    "print('Training accuracy {:.4f}'.format(clf.score(X_train,y_train)))\n",
    "print('Testing accuracy {:.4f}'.format(clf.score(X_test,y_test)))\n"
   ]
  },
  {
   "cell_type": "code",
   "execution_count": 32,
   "id": "d40182f7",
   "metadata": {},
   "outputs": [],
   "source": [
    "# predict the results\n",
    "y_pred=clf.predict(X_test)"
   ]
  },
  {
   "cell_type": "code",
   "execution_count": 33,
   "id": "432101fa",
   "metadata": {},
   "outputs": [
    {
     "data": {
      "text/plain": [
       "array([1, 0, 0, ..., 0, 0, 0], dtype=int64)"
      ]
     },
     "execution_count": 33,
     "metadata": {},
     "output_type": "execute_result"
    }
   ],
   "source": [
    "y_pred"
   ]
  },
  {
   "cell_type": "code",
   "execution_count": 34,
   "id": "5d1db3a4",
   "metadata": {},
   "outputs": [
    {
     "data": {
      "text/plain": [
       "5839"
      ]
     },
     "execution_count": 34,
     "metadata": {},
     "output_type": "execute_result"
    }
   ],
   "source": [
    "np.sum(y_pred == 1)"
   ]
  },
  {
   "cell_type": "code",
   "execution_count": 35,
   "id": "4f4724f8",
   "metadata": {},
   "outputs": [
    {
     "data": {
      "text/plain": [
       "<AxesSubplot:title={'center':'Feature importance'}, xlabel='Feature importance', ylabel='Features'>"
      ]
     },
     "execution_count": 35,
     "metadata": {},
     "output_type": "execute_result"
    },
    {
     "data": {
      "image/png": "[encoded data removed]",
      "text/plain": [
       "<Figure size 432x288 with 1 Axes>"
      ]
     },
     "metadata": {
      "needs_background": "light"
     },
     "output_type": "display_data"
    }
   ],
   "source": [
    "# feature importance\n",
    "lgb.plot_importance(clf)"
   ]
  },
  {
   "cell_type": "code",
   "execution_count": 36,
   "id": "79fb9b00",
   "metadata": {},
   "outputs": [
    {
     "name": "stderr",
     "output_type": "stream",
     "text": [
      "C:\\Users\\yng12\\AppData\\Roaming\\Python\\Python39\\site-packages\\lightgbm\\plotting.py:372: UserWarning: More than one metric available, picking one to plot.\n",
      "  _log_warning(\"More than one metric available, picking one to plot.\")\n"
     ]
    },
    {
     "data": {
      "text/plain": [
       "<AxesSubplot:title={'center':'Metric during training'}, xlabel='Iterations', ylabel='auc'>"
      ]
     },
     "execution_count": 36,
     "metadata": {},
     "output_type": "execute_result"
    },
    {
     "data": {
      "image/png": "[encoded data removed]",
      "text/plain": [
       "<Figure size 432x288 with 1 Axes>"
      ]
     },
     "metadata": {
      "needs_background": "light"
     },
     "output_type": "display_data"
    }
   ],
   "source": [
    "lgb.plot_metric(clf)"
   ]
  },
  {
   "cell_type": "code",
   "execution_count": 37,
   "id": "72e83c19",
   "metadata": {},
   "outputs": [
    {
     "data": {
      "text/plain": [
       "<AxesSubplot:>"
      ]
     },
     "execution_count": 37,
     "metadata": {},
     "output_type": "execute_result"
    },
    {
     "data": {
      "image/png": "[encoded data removed]",
      "text/plain": [
       "<Figure size 864x864 with 1 Axes>"
      ]
     },
     "metadata": {
      "needs_background": "light"
     },
     "output_type": "display_data"
    }
   ],
   "source": [
    "# tree\n",
    "lgb.plot_tree(clf,figsize=(12,12))"
   ]
  },
  {
   "cell_type": "code",
   "execution_count": 38,
   "id": "50e0c8e8",
   "metadata": {},
   "outputs": [],
   "source": [
    "from sklearn import metrics"
   ]
  },
  {
   "cell_type": "code",
   "execution_count": 39,
   "id": "d74fef2c",
   "metadata": {},
   "outputs": [
    {
     "name": "stderr",
     "output_type": "stream",
     "text": [
      "C:\\ProgramData\\Anaconda3\\lib\\site-packages\\sklearn\\utils\\deprecation.py:87: FutureWarning: Function plot_confusion_matrix is deprecated; Function `plot_confusion_matrix` is deprecated in 1.0 and will be removed in 1.2. Use one of the class methods: ConfusionMatrixDisplay.from_predictions or ConfusionMatrixDisplay.from_estimator.\n",
      "  warnings.warn(msg, category=FutureWarning)\n"
     ]
    },
    {
     "data": {
      "text/plain": [
       "<sklearn.metrics._plot.confusion_matrix.ConfusionMatrixDisplay at 0x21ed6020340>"
      ]
     },
     "execution_count": 39,
     "metadata": {},
     "output_type": "execute_result"
    },
    {
     "data": {
      "image/png": "[encoded data removed]",
      "text/plain": [
       "<Figure size 432x288 with 2 Axes>"
      ]
     },
     "metadata": {
      "needs_background": "light"
     },
     "output_type": "display_data"
    }
   ],
   "source": [
    "metrics.plot_confusion_matrix(clf,X_test,y_test,cmap='Blues_r')"
   ]
  },
  {
   "cell_type": "code",
   "execution_count": 40,
   "id": "56196b97",
   "metadata": {},
   "outputs": [
    {
     "name": "stdout",
     "output_type": "stream",
     "text": [
      "              precision    recall  f1-score   support\n",
      "\n",
      "           0       0.80      0.72      0.76     11462\n",
      "           1       0.45      0.56      0.50      4676\n",
      "\n",
      "    accuracy                           0.67     16138\n",
      "   macro avg       0.63      0.64      0.63     16138\n",
      "weighted avg       0.70      0.67      0.68     16138\n",
      "\n"
     ]
    }
   ],
   "source": [
    "print(metrics.classification_report(y_test,clf.predict(X_test)))\n"
   ]
  },
  {
   "cell_type": "code",
   "execution_count": null,
   "id": "76512e50",
   "metadata": {},
   "outputs": [],
   "source": []
  }
 ],
 "metadata": {
  "kernelspec": {
   "display_name": "Python 3 (ipykernel)",
   "language": "python",
   "name": "python3"
  },
  "language_info": {
   "codemirror_mode": {
    "name": "ipython",
    "version": 3
   },
   "file_extension": ".py",
   "mimetype": "text/x-python",
   "name": "python",
   "nbconvert_exporter": "python",
   "pygments_lexer": "ipython3",
   "version": "3.9.12"
  }
 },
 "nbformat": 4,
 "nbformat_minor": 5
}
